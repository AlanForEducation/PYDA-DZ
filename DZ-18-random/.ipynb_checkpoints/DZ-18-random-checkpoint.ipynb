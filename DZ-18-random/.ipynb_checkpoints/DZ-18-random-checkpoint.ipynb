{
 "cells": [
  {
   "cell_type": "markdown",
   "metadata": {},
   "source": [
    "## Задание 1\n",
    "\n",
    "Смоделировать игру против лотерейного автомата типа “777”. Игрок платит 1 руб., после чего выпадает случайное целое число, равномерно распределенное от 0 до 999. При некоторых значениях числа игрок получает выигрыш (см. справа)\n",
    "\n",
    "Выгодна ли игра игроку?\n",
    "\n",
    "Сколько в среднем приобретает\n",
    "или теряет игрок за одну игру?\n",
    "\n",
    "777: 200 руб.  \n",
    "999: 100 руб.  \n",
    "555: 50 руб.  \n",
    "333: 15 руб.  \n",
    "111: 10 руб.  \n",
    ".77: 5 руб.  \n",
    "..7: 3 руб.  \n",
    ".00: 2 руб.  \n",
    "..0: 1 руб.  "
   ]
  },
  {
   "cell_type": "code",
   "execution_count": 193,
   "metadata": {},
   "outputs": [],
   "source": [
    "import numpy as np"
   ]
  },
  {
   "cell_type": "code",
   "execution_count": 194,
   "metadata": {},
   "outputs": [],
   "source": [
    "import re"
   ]
  },
  {
   "cell_type": "code",
   "execution_count": 195,
   "metadata": {},
   "outputs": [],
   "source": [
    "# Создадим словарь в который будут записываться количество удачных исходов\n"
   ]
  },
  {
   "cell_type": "code",
   "execution_count": 196,
   "metadata": {},
   "outputs": [
    {
     "name": "stdout",
     "output_type": "stream",
     "text": [
      " 777 выпало 9963 раз, выигрыш составил: 1992600\n",
      " 999 выпало 9817 раз, выигрыш составил: 981700\n",
      " 555 выпало 9947 раз, выигрыш составил: 497350\n",
      " 333 выпало 9900 раз, выигрыш составил: 148500\n",
      " 111 выпало 9805 раз, выигрыш составил: 98050\n",
      " *77 выпало 90098 раз, выигрыш составил: 450490\n",
      " **7 выпало 900718 раз, выигрыш составил: 2702154\n",
      " *00 выпало 90016 раз, выигрыш составил: 180032\n",
      " **0 выпало 909604 раз, выигрыш составил: 909604\n",
      "Было потрачено: 10000000 руб. , выиграл: 7960480 руб.\n",
      "За игру в среднем выигрывает: 0.796048 руб. \n"
     ]
    }
   ],
   "source": [
    "money = 10000000\n",
    "total = 0\n",
    "data = {'777' : {'win':200, 'count':0, 'prize':0},\n",
    "        '999' : {'win':100, 'count':0, 'prize':0}, \n",
    "        '555' : {'win':50, 'count':0, 'prize':0},\n",
    "        '333' : {'win':15, 'count':0, 'prize':0},\n",
    "        '111' : {'win':10, 'count':0, 'prize':0}, \n",
    "        '*77' : {'win':5, 'count':0, 'prize':0},\n",
    "        '**7' : {'win':3, 'count':0, 'prize':0},\n",
    "        '*00' : {'win':2, 'count':0, 'prize':0},\n",
    "        '**0' : {'win':1, 'count':0, 'prize':0}}\n",
    "\n",
    "\n",
    "for i in range(money):\n",
    "    x = str(np.random.randint(0, 1000))\n",
    "    \n",
    "    if x in data.keys():\n",
    "        data[x]['count'] += 1\n",
    "        data[x]['prize'] += data[x]['win']\n",
    "    else:\n",
    "        if re.search(r'^\\d{0,1}77$', x):\n",
    "            data['*77']['count'] += 1\n",
    "            data['*77']['prize'] += data['*77']['win']\n",
    "            \n",
    "        elif re.search(r'^\\d{0,2}7$', x):\n",
    "            data['**7']['count'] += 1\n",
    "            data['**7']['prize'] += data['**7']['win']\n",
    "            \n",
    "        elif re.search(r'^\\d{0,1}00$', x):\n",
    "            data['*00']['count'] += 1\n",
    "            data['*00']['prize'] += data['*00']['win']\n",
    "            \n",
    "        elif re.search(r'^\\d{0,2}0$', x):\n",
    "            data['**0']['count'] += 1\n",
    "            data['**0']['prize'] += data['**0']['win']\n",
    "        \n",
    "        \n",
    "\n",
    "\n",
    "for key, value in data.items():\n",
    "    print(f\" {key} выпало {value['count']} раз, выигрыш составил: {value['prize']}\")\n",
    "    total += value['prize']\n",
    "    \n",
    "print(f'Было потрачено: {money} руб. , выиграл: {total} руб.')\n",
    "print(f'За игру в среднем выигрывает: {total / money} руб. ')"
   ]
  },
  {
   "cell_type": "markdown",
   "metadata": {},
   "source": [
    "## Дополнительное задание\n",
    "\n",
    "Теоретически рассчитать средний выигрыш (проигрыш) и сравнить с результатами моделирования"
   ]
  },
  {
   "cell_type": "code",
   "execution_count": 197,
   "metadata": {},
   "outputs": [],
   "source": [
    "# 777: 200 руб. Вероятность выпадения 0.001\n",
    "# 999: 100 руб. Вероятность выпадения 0.001\n",
    "# 555: 50 руб. Вероятность выпадения 0.001\n",
    "# 333: 15 руб. Вероятность выпадения 0.001\n",
    "# 111: 10 руб. Вероятность выпадения 0.001\n",
    "# .77: 5 руб. Вероятность выпадения 9/1000\n",
    "# ..7: 3 руб. Вероятность выпадения (99-9)/1000\n",
    "# .00: 2 руб. Вероятность выпадения 10/1000\n",
    "# ..0: 1 руб. Вероятность выпадения (100-10)/1000"
   ]
  },
  {
   "cell_type": "code",
   "execution_count": 198,
   "metadata": {},
   "outputs": [
    {
     "data": {
      "text/plain": [
       "0.7999999999999999"
      ]
     },
     "execution_count": 198,
     "metadata": {},
     "output_type": "execute_result"
    }
   ],
   "source": [
    "res = 0.001*(200 + 100 + 50 + 15 + 10) + (9/1000)*5 + (10/1000)*2 + ((99-9)/1000)*3 + ((100-10)/1000)*1\n",
    "res"
   ]
  }
 ],
 "metadata": {
  "kernelspec": {
   "display_name": "Python 3",
   "language": "python",
   "name": "python3"
  },
  "language_info": {
   "codemirror_mode": {
    "name": "ipython",
    "version": 3
   },
   "file_extension": ".py",
   "mimetype": "text/x-python",
   "name": "python",
   "nbconvert_exporter": "python",
   "pygments_lexer": "ipython3",
   "version": "3.8.3"
  }
 },
 "nbformat": 4,
 "nbformat_minor": 4
}
