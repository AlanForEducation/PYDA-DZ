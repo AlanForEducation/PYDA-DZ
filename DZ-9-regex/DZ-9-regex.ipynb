{
 "cells": [
  {
   "cell_type": "code",
   "execution_count": 1,
   "metadata": {},
   "outputs": [],
   "source": [
    "import re"
   ]
  },
  {
   "cell_type": "markdown",
   "metadata": {},
   "source": [
    "### Задание 1\n",
    "\n",
    "Напишите функцию, которая принимает на вход строку и проверяет является ли она валидным транспортным номером (1 буква, 3 цифры, 2 буквы, 2-3 цифры). Обратите внимание, что не все буквы кириллического алфавита используются в транспортных номерах.\n",
    "\n",
    "Если номер валиден, то функция должна возвращать отдельно номер и регион."
   ]
  },
  {
   "cell_type": "code",
   "execution_count": 35,
   "metadata": {},
   "outputs": [],
   "source": [
    "car_id = 'А222ВС96'"
   ]
  },
  {
   "cell_type": "code",
   "execution_count": 36,
   "metadata": {},
   "outputs": [],
   "source": [
    "def rus_car_num(car_id):\n",
    "\n",
    "    car_pattern_searh = r'^[АВЕКМНОРСТУХ]{1}\\d{3}[АВЕКМНОРСТУХ]{2}\\d{2,3}$'\n",
    "    car_pattern_num = r'([АВЕКМНОРСТУХ]{1}\\d{3}[АВЕКМНОРСТУХ]{2})'\n",
    "    car_pattern_reg = r'([АВЕКМНОРСТУХ]\\d{3}\\w{2})(\\d{1,3})'\n",
    "\n",
    "    if re.findall(car_pattern_searh, car_id):\n",
    "        print('Номер ', re.sub(car_pattern_num, r'\\1', car_id), ' валиден. Регион: ', re.sub(car_pattern_reg, r'\\2', car_id))\n",
    "\n",
    "    else:\n",
    "        print('Номер не валиден')"
   ]
  },
  {
   "cell_type": "code",
   "execution_count": 37,
   "metadata": {
    "scrolled": true
   },
   "outputs": [
    {
     "name": "stdout",
     "output_type": "stream",
     "text": [
      "Номер  А222ВС96  валиден. Регион:  96\n"
     ]
    }
   ],
   "source": [
    "rus_car_num(car_id)"
   ]
  },
  {
   "cell_type": "markdown",
   "metadata": {},
   "source": [
    "### Задание 2\n",
    "Напишите функцию, которая будет удалять все последовательные повторы слов из заданной строки при помощи регулярных выражений."
   ]
  },
  {
   "cell_type": "code",
   "execution_count": 41,
   "metadata": {},
   "outputs": [],
   "source": [
    "some_string = 'Напишите функцию функцию, которая будет будет будет будет удалять все все все все последовательные повторы слов из из из из заданной строки строки при помощи регулярных выражений'"
   ]
  },
  {
   "cell_type": "code",
   "execution_count": 42,
   "metadata": {},
   "outputs": [],
   "source": [
    "def del_duplicate_words(some_string):\n",
    "    print(re.sub(r'\\b(\\w+)(\\W+\\1\\b)+', r'\\1', some_string))"
   ]
  },
  {
   "cell_type": "code",
   "execution_count": 43,
   "metadata": {},
   "outputs": [
    {
     "name": "stdout",
     "output_type": "stream",
     "text": [
      "Напишите функцию, которая будет удалять все последовательные повторы слов из заданной строки при помощи регулярных выражений\n"
     ]
    }
   ],
   "source": [
    "del_duplicate_words(some_string)"
   ]
  },
  {
   "cell_type": "markdown",
   "metadata": {},
   "source": [
    "### Задание 3\n",
    "\n",
    "\n",
    "Напишите функцию, которая будет возвращать акроним по переданной в нее строке со словами."
   ]
  },
  {
   "cell_type": "code",
   "execution_count": 44,
   "metadata": {},
   "outputs": [],
   "source": [
    "some_words = 'Near Field Communication'"
   ]
  },
  {
   "cell_type": "code",
   "execution_count": 45,
   "metadata": {},
   "outputs": [],
   "source": [
    "def arc(some_words):\n",
    "\n",
    "    acr_pattern = r'(\\w)+'\n",
    "    print(re.sub(r'\\s', '', re.sub(r'(\\w)\\w+', r'\\1', some_words.upper())))"
   ]
  },
  {
   "cell_type": "code",
   "execution_count": 46,
   "metadata": {},
   "outputs": [
    {
     "name": "stdout",
     "output_type": "stream",
     "text": [
      "NFC\n"
     ]
    }
   ],
   "source": [
    "arc(some_words)"
   ]
  },
  {
   "cell_type": "markdown",
   "metadata": {},
   "source": [
    "### Задание 4\n",
    "\n",
    "Напишите функцию, которая будет принимать на вход список email-адресов и выводить их распределение по доменным зонам."
   ]
  },
  {
   "cell_type": "code",
   "execution_count": 47,
   "metadata": {},
   "outputs": [],
   "source": [
    "emails = ['test@gmail.com', 'xyz@test.in', 'test@ya.ru', 'xyz@mail.ru', 'xyz@ya.ru', 'xyz@gmail.com']"
   ]
  },
  {
   "cell_type": "code",
   "execution_count": 48,
   "metadata": {},
   "outputs": [],
   "source": [
    "def email_dom_count(emails):\n",
    "\n",
    "    res = {}\n",
    "    email_pattern = r'(?<=\\b)+(?<=@)\\w+\\.\\w+'\n",
    "    for email in emails:\n",
    "\n",
    "        if re.findall(email_pattern, email)[0] in res:\n",
    "            res[re.findall(email_pattern, email)[0]] +=1\n",
    "        else:\n",
    "            res[re.findall(email_pattern, email)[0]] = 1\n",
    "\n",
    "    for key, value in res.items():\n",
    "        print(f'{key}: {value}')"
   ]
  },
  {
   "cell_type": "code",
   "execution_count": 49,
   "metadata": {},
   "outputs": [
    {
     "name": "stdout",
     "output_type": "stream",
     "text": [
      "gmail.com: 2\n",
      "test.in: 1\n",
      "ya.ru: 2\n",
      "mail.ru: 1\n"
     ]
    }
   ],
   "source": [
    "email_dom_count(emails)"
   ]
  },
  {
   "cell_type": "markdown",
   "metadata": {},
   "source": [
    "### Задание 5\n",
    "\n",
    "Напишите функцию, которая будет подсчитывать сколько слов начинается на гласные, а сколько на согласные буквы в тексте (текст может быть написан как с использованием букв кириллицы, так и латиницы)."
   ]
  },
  {
   "cell_type": "code",
   "execution_count": 53,
   "metadata": {},
   "outputs": [],
   "source": [
    "some_text = 'Эталонной реализацией Python является интерпретатор CPython, поддерживающий большинство активно используемых платформ. Он распространяется под свободной лицензией Python Software Foundation License, позволяющей использовать его без ограничений в любых приложениях, включая проприетарные.'"
   ]
  },
  {
   "cell_type": "code",
   "execution_count": 54,
   "metadata": {},
   "outputs": [],
   "source": [
    "def vowels_and_consonants(some_text):\n",
    "    vowels = 0\n",
    "    consonants = 0\n",
    "\n",
    "    for word in some_text.split(' '):\n",
    "        if re.match(r'([АЕЁИОУЭЮЯаеёиоуэюяEYUOAJIeyuoiaj])', word):\n",
    "            vowels += 1\n",
    "        else:\n",
    "            consonants += 1\n",
    "\n",
    "    print(f'Слов на гласные буквы: {vowels}')\n",
    "    print(f'Слов на согласные буквы: {consonants}')"
   ]
  },
  {
   "cell_type": "code",
   "execution_count": 55,
   "metadata": {},
   "outputs": [
    {
     "name": "stdout",
     "output_type": "stream",
     "text": [
      "Слов на гласные буквы: 9\n",
      "Слов на согласные буквы: 21\n"
     ]
    }
   ],
   "source": [
    "vowels_and_consonants(some_text)"
   ]
  },
  {
   "cell_type": "markdown",
   "metadata": {},
   "source": [
    "### Задание 6\n",
    "\n",
    "Напишите функцию, которая будет проверять номер сотового телефона на валидность (только для российского формата), если он валиден, то переводить его в формат:\n",
    "+7-xxx-xxx-xx-xx"
   ]
  },
  {
   "cell_type": "code",
   "execution_count": 56,
   "metadata": {},
   "outputs": [],
   "source": [
    "phone_num = '8(955) 555 -55-55'"
   ]
  },
  {
   "cell_type": "code",
   "execution_count": 57,
   "metadata": {},
   "outputs": [],
   "source": [
    "def rus_phone_num(phone_num):\n",
    "\n",
    "    num_pattern_1 = r'[78][\\(\\s\\-]+(\\d{3})[\\)\\s\\-]+(\\d{3})[\\(\\s\\-]+(\\d{2})[\\(\\s\\-]+(\\d{2})'\n",
    "    num_pattern_1_for_change = r'[78][\\(\\s\\-]+(\\d{3})[\\)\\s\\-]+(\\d{3})[\\(\\s\\-]+(\\d{2})[\\(\\s\\-]+(\\d{2})'\n",
    "    num_pattern_1_res = r'7-\\1-\\2-\\3-\\4'\n",
    "    num_pattern_1_res_plus = r'+7-\\1-\\2-\\3-\\4'\n",
    "\n",
    "\n",
    "\n",
    "    if re.search(num_pattern_1, phone_num) and re.match(r'\\+', phone_num):\n",
    "        print(re.sub(num_pattern_1_for_change, num_pattern_1_res, phone_num))\n",
    "\n",
    "    elif re.search(num_pattern_1, phone_num):\n",
    "        print(re.sub(num_pattern_1_for_change, num_pattern_1_res_plus, phone_num))\n",
    "\n",
    "    else:\n",
    "        print('Номер не валиден')"
   ]
  },
  {
   "cell_type": "code",
   "execution_count": 58,
   "metadata": {},
   "outputs": [
    {
     "name": "stdout",
     "output_type": "stream",
     "text": [
      "+7-955-555-55-55\n"
     ]
    }
   ],
   "source": [
    "rus_phone_num(phone_num)"
   ]
  }
 ],
 "metadata": {
  "kernelspec": {
   "display_name": "Python 3",
   "language": "python",
   "name": "python3"
  },
  "language_info": {
   "codemirror_mode": {
    "name": "ipython",
    "version": 3
   },
   "file_extension": ".py",
   "mimetype": "text/x-python",
   "name": "python",
   "nbconvert_exporter": "python",
   "pygments_lexer": "ipython3",
   "version": "3.8.3"
  }
 },
 "nbformat": 4,
 "nbformat_minor": 4
}
