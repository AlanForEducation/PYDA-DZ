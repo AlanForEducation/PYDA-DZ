{
 "cells": [
  {
   "cell_type": "code",
   "execution_count": 1,
   "metadata": {},
   "outputs": [],
   "source": [
    "import requests"
   ]
  },
  {
   "cell_type": "markdown",
   "metadata": {},
   "source": [
    "### Задание 1\n",
    "Напишите функцию, которая возвращает название валюты (поле ‘Name’) с максимальным значением курса с помощью сервиса"
   ]
  },
  {
   "cell_type": "code",
   "execution_count": 49,
   "metadata": {},
   "outputs": [],
   "source": [
    "def max_value():\n",
    "    '''\n",
    "    Возвращает название валюту с максимальным значением курса\n",
    "    '''\n",
    "    \n",
    "    inf = requests.get('https://www.cbr-xml-daily.ru/daily_json.js')\n",
    "    dict_currency = inf.json()['Valute']\n",
    "\n",
    "    max_value = 0\n",
    "    max_value_name = ''\n",
    "    for currency, value in dict_currency.items():\n",
    "\n",
    "\n",
    "        if value['Value'] > max_value:\n",
    "            max_value = value['Value']\n",
    "            max_value_name = value['Name']\n",
    "\n",
    "\n",
    "    print(f'Самая дорогая валюта на сегодня: {max_value_name}, ее курс: {max_value}')"
   ]
  },
  {
   "cell_type": "code",
   "execution_count": 50,
   "metadata": {},
   "outputs": [
    {
     "name": "stdout",
     "output_type": "stream",
     "text": [
      "Самая дорогая валюта на сегодня: СДР (специальные права заимствования), ее курс: 107.3914\n"
     ]
    }
   ],
   "source": [
    "max_value()"
   ]
  },
  {
   "cell_type": "markdown",
   "metadata": {},
   "source": [
    "### Задание 2\n",
    "Добавьте в класс Rate параметр diff (со значениями True или False), который в случае значения True в методах курсов валют (eur, usd итд) будет возвращать не курс валюты, а изменение по сравнению в прошлым значением. Считайте, self.diff будет принимать значение True только при возврате значения курса. При отображении всей информации о валюте он не используется."
   ]
  },
  {
   "cell_type": "code",
   "execution_count": 9,
   "metadata": {},
   "outputs": [],
   "source": [
    "class Rate:\n",
    "    def __init__(self, format_='value', diff=True):\n",
    "        self.format = format_\n",
    "        self.diff = diff\n",
    "    \n",
    "    def exchange_rates(self):\n",
    "        \"\"\"\n",
    "        Возвращает ответ сервиса с информацией о валютах в виде:\n",
    "        \n",
    "        {\n",
    "            'AMD': {\n",
    "                'CharCode': 'AMD',\n",
    "                'ID': 'R01060',\n",
    "                'Name': 'Армянских драмов',\n",
    "                'Nominal': 100,\n",
    "                'NumCode': '051',\n",
    "                'Previous': 14.103,\n",
    "                'Value': 14.0879\n",
    "                },\n",
    "            ...\n",
    "        }\n",
    "        \"\"\"\n",
    "        self.r = requests.get('https://www.cbr-xml-daily.ru/daily_json.js')\n",
    "        return self.r.json()['Valute']\n",
    "    \n",
    "    def make_format(self, currency):\n",
    "        \"\"\"\n",
    "        Возвращает информацию о валюте currency в двух вариантах:\n",
    "        - полная информация о валюте при self.format = 'full':\n",
    "        Rate('full').make_format('EUR')\n",
    "        {\n",
    "            'CharCode': 'EUR',\n",
    "            'ID': 'R01239',\n",
    "            'Name': 'Евро',\n",
    "            'Nominal': 1,\n",
    "            'NumCode': '978',\n",
    "            'Previous': 79.6765,\n",
    "            'Value': 79.4966\n",
    "        }\n",
    "        \n",
    "        Rate('value').make_format('EUR')\n",
    "        79.4966\n",
    "        \"\"\"\n",
    "        response = self.exchange_rates()\n",
    "        \n",
    "        if currency in response:\n",
    "            if self.format == 'full':\n",
    "                return response[currency]\n",
    "            \n",
    "            if self.format == 'value' and self.diff is True:\n",
    "                return abs(response[currency]['Value'] - response[currency]['Previous'])\n",
    "            elif self.format == 'value':\n",
    "                return response[currency]['Value']\n",
    "        \n",
    "        return 'Error'\n",
    "    \n",
    "    def eur(self):\n",
    "        \"\"\"Возвращает курс евро на сегодня в формате self.format\"\"\"\n",
    "        return self.make_format('EUR')\n",
    "    \n",
    "    def usd(self):\n",
    "        \"\"\"Возвращает курс доллара на сегодня в формате self.format\"\"\"\n",
    "        return self.make_format('USD')\n",
    "    \n",
    "    def brl(self):\n",
    "        \"\"\"Возвращает курс бразильского реала на сегодня в формате self.format\"\"\"\n",
    "        return self.make_format('BRL')"
   ]
  },
  {
   "cell_type": "code",
   "execution_count": 10,
   "metadata": {},
   "outputs": [],
   "source": [
    "r = Rate()"
   ]
  },
  {
   "cell_type": "code",
   "execution_count": 11,
   "metadata": {},
   "outputs": [
    {
     "data": {
      "text/plain": [
       "0.10679999999999268"
      ]
     },
     "execution_count": 11,
     "metadata": {},
     "output_type": "execute_result"
    }
   ],
   "source": [
    "r.usd()"
   ]
  },
  {
   "cell_type": "markdown",
   "metadata": {},
   "source": [
    "### Задание 3\n",
    "Напишите класс Designer, который учитывает количество международных премий. "
   ]
  },
  {
   "cell_type": "code",
   "execution_count": 51,
   "metadata": {},
   "outputs": [],
   "source": [
    "class Designer:\n",
    "    def __init__(self, name, grade, awards, points = 0):\n",
    "        self.name = name\n",
    "        self.grade = grade\n",
    "        self.awards = awards\n",
    "        self.points = awards * 2\n",
    "        self.calc = 7\n",
    "\n",
    "\n",
    "        \n",
    "    def check_if_it_is_time_for_upgrade(self):\n",
    "        self.awards += 1\n",
    "        self.points = self.awards * 2\n",
    "\n",
    "        \n",
    "        if self.points >=  self.calc:\n",
    "            self.grade += 1\n",
    "            self.calc +=7\n",
    "            \n",
    "        \n",
    "\n",
    "        \n",
    "        print(f'{self.name} {self.grade}')"
   ]
  },
  {
   "cell_type": "code",
   "execution_count": 52,
   "metadata": {},
   "outputs": [
    {
     "name": "stdout",
     "output_type": "stream",
     "text": [
      "Елена 0\n",
      "Елена 1\n",
      "Елена 1\n",
      "Елена 1\n",
      "Елена 2\n",
      "Елена 2\n",
      "Елена 2\n",
      "Елена 2\n",
      "Елена 3\n",
      "Елена 3\n",
      "Елена 3\n",
      "Елена 4\n",
      "Елена 4\n",
      "Елена 4\n",
      "Елена 4\n",
      "Елена 5\n",
      "Елена 5\n",
      "Елена 5\n",
      "Елена 6\n",
      "Елена 6\n"
     ]
    }
   ],
   "source": [
    "elena = Designer('Елена', grade=0, awards=2)\n",
    "for i in range(20):\n",
    "    elena.check_if_it_is_time_for_upgrade()"
   ]
  }
 ],
 "metadata": {
  "kernelspec": {
   "display_name": "Python 3",
   "language": "python",
   "name": "python3"
  },
  "language_info": {
   "codemirror_mode": {
    "name": "ipython",
    "version": 3
   },
   "file_extension": ".py",
   "mimetype": "text/x-python",
   "name": "python",
   "nbconvert_exporter": "python",
   "pygments_lexer": "ipython3",
   "version": "3.8.3"
  }
 },
 "nbformat": 4,
 "nbformat_minor": 4
}
