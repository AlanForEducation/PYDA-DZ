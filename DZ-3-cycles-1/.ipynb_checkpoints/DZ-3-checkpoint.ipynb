{
 "cells": [
  {
   "cell_type": "markdown",
   "metadata": {},
   "source": [
    "### Задание 1\n",
    "Дана переменная, в которой хранится слово из латинских букв. Напишите код, который выводит на экран:\n",
    "\n",
    "среднюю букву, если число букв в слове четное;\n",
    "две средних буквы, если число букв нечетное."
   ]
  },
  {
   "cell_type": "code",
   "execution_count": 37,
   "metadata": {},
   "outputs": [
    {
     "name": "stdout",
     "output_type": "stream",
     "text": [
      "I\n"
     ]
    }
   ],
   "source": [
    "word = 'teIst'\n",
    "a = len(word)\n",
    "\n",
    "if a % 2 == 0:\n",
    "    b = int((a / 2) - 1)\n",
    "    c = b + 2\n",
    "    print(word[b:c])\n",
    "else:\n",
    "    b = int(a / 2)\n",
    "    print(word[b])"
   ]
  },
  {
   "cell_type": "markdown",
   "metadata": {},
   "source": [
    "### Задание 2\n",
    "Напишите программу, которая последовательно запрашивает у пользователя числа (по одному за раз) и после первого нуля выводит сумму всех ранее введенных чисел."
   ]
  },
  {
   "cell_type": "code",
   "execution_count": 41,
   "metadata": {},
   "outputs": [
    {
     "name": "stdout",
     "output_type": "stream",
     "text": [
      "Введите число:10\n",
      "Введите число:-100\n",
      "Введите число:15\n",
      "Введите число:96\n",
      "Введите число:0\n",
      "21\n"
     ]
    }
   ],
   "source": [
    "b = int(input('Введите число:'))\n",
    "a = 0\n",
    "while b != 0:\n",
    "    a = a + b\n",
    "    b = int(input('Введите число:'))\n",
    "    if b == 0:\n",
    "        print(a)"
   ]
  },
  {
   "cell_type": "markdown",
   "metadata": {},
   "source": [
    "### Задание 3\n",
    "Мы делаем MVP dating-сервиса, и у нас есть список парней и девушек.\n",
    "Выдвигаем гипотезу: лучшие рекомендации мы получим, если просто отсортируем имена по алфавиту и познакомим людей с одинаковыми индексами после сортировки! Но мы не будем никого знакомить, если кто-то может остаться без пары"
   ]
  },
  {
   "cell_type": "code",
   "execution_count": 70,
   "metadata": {},
   "outputs": [
    {
     "name": "stdout",
     "output_type": "stream",
     "text": [
      "Идеальные пары:\n",
      "Emma  и  Alex\n",
      "Kate  и  Arthur\n",
      "Kira  и  John\n",
      "Liza  и  Peter\n",
      "Trisha  и  Richard\n"
     ]
    }
   ],
   "source": [
    "boys = ['Peter', 'Alex', 'John', 'Arthur', 'Richard']\n",
    "girls = ['Kate', 'Liza', 'Kira', 'Emma', 'Trisha']\n",
    "girls_name = sorted(girls)\n",
    "i=0\n",
    "lg = len(boys)\n",
    "bg = len(girls)\n",
    "\n",
    "if lg == bg:\n",
    "    print('Идеальные пары:')\n",
    "    for b_name in sorted(boys):\n",
    "        print(girls_name[i], ' и ', b_name)\n",
    "        i = i + 1\n",
    "else:\n",
    "    print('Внимание, кто-то может остаться без пары!')"
   ]
  },
  {
   "cell_type": "markdown",
   "metadata": {},
   "source": [
    "### Задание 4\n",
    "У нас есть список, содержащий информацию о среднедневной температуре в Фаренгейтах за произвольный период по странам (структура данных в примере). Необходимо написать код, который рассчитает среднюю температуру за период в Цельсиях(!) для каждой страны."
   ]
  },
  {
   "cell_type": "code",
   "execution_count": 179,
   "metadata": {},
   "outputs": [
    {
     "name": "stdout",
     "output_type": "stream",
     "text": [
      "Средняя температура в странах:\n",
      "Thailand  -  23.9  C\n",
      "Germany  -  13.8  C\n",
      "Russia  -  3.7  C\n",
      "Poland  -  12.0  C\n"
     ]
    }
   ],
   "source": [
    "countries_temperature = [\n",
    "    ['Thailand', [75.2, 77, 78.8, 73.4, 68, 75.2, 77]],\n",
    "    ['Germany', [57.2, 55.4, 59, 59, 53.6]],\n",
    "    ['Russia', [35.6, 37.4, 39.2, 41, 42.8, 39.2, 35.6]],\n",
    "    ['Poland', [50, 50, 53.6, 57.2, 55.4, 55.4]]\n",
    "]\n",
    "print('Средняя температура в странах:')\n",
    "for temp in countries_temperature:\n",
    "    i = 0\n",
    "    for cel in temp[1]:\n",
    "        d = len(temp[1])\n",
    "        i = i + float(cel)\n",
    "    i = ((i / d) - 32) * (5/9)\n",
    "    print(temp[0], ' - ', round(i, 1), ' C')"
   ]
  },
  {
   "cell_type": "markdown",
   "metadata": {},
   "source": [
    "###  Задание 5\n",
    "Дан поток логов по количеству просмотренных страниц для каждого пользователя. Вам необходимо написать алгоритм, который считает среднее значение просмотров на пользователя. Т. е. надо посчитать отношение суммы всех просмотров к количеству уникальных пользователей."
   ]
  },
  {
   "cell_type": "code",
   "execution_count": 140,
   "metadata": {},
   "outputs": [
    {
     "name": "stdout",
     "output_type": "stream",
     "text": [
      "23.25\n"
     ]
    }
   ],
   "source": [
    "stream = [\n",
    "    '2018-01-01,user1,3',\n",
    "    '2018-01-07,user1,4',\n",
    "    '2018-03-29,user1,1',\n",
    "    '2018-04-04,user1,13',\n",
    "    '2018-01-05,user2,7',\n",
    "    '2018-06-14,user3,4',\n",
    "    '2018-07-02,user3,10',\n",
    "    '2018-03-21,user4,19',\n",
    "    '2018-03-22,user4,4',\n",
    "    '2018-04-22,user4,8',\n",
    "    '2018-05-03,user4,9',\n",
    "    '2018-05-11,user4,11',\n",
    "]\n",
    "p = 0\n",
    "b = 0 \n",
    "name = [1, ]\n",
    "n = 0\n",
    "for user in stream:\n",
    "    user = user.split(',')\n",
    "    user = user[1]\n",
    "    s = 0\n",
    "    i = 0\n",
    "    if user not in name:\n",
    "        for user_check in stream:\n",
    "            user_check = user_check.split(',')\n",
    "            if user == user_check[1]:\n",
    "                t = int(user_check[2])\n",
    "                i = i + t          \n",
    "        user = user.split()\n",
    "        name = name[:n] + user\n",
    "        n = n+1\n",
    "        b = b+1\n",
    "        p = p + i\n",
    "        \n",
    "d = len(name)\n",
    "p = p / d   \n",
    "print(p)"
   ]
  },
  {
   "cell_type": "markdown",
   "metadata": {},
   "source": [
    "### Задание 6\n",
    "Необходимо у пользователя запрашивать набор чисел разделенных пробелом. В результате должны выводиться числа, которые повторяются в вводе более одного раза."
   ]
  },
  {
   "cell_type": "code",
   "execution_count": 173,
   "metadata": {},
   "outputs": [
    {
     "name": "stdout",
     "output_type": "stream",
     "text": [
      "Введите числа: 1 1 1 5 5 5 98 98 6 3 2 1\n",
      "1 5 98\n"
     ]
    }
   ],
   "source": [
    "a = input('Введите числа: ')\n",
    "a = a.split(' ')\n",
    "\n",
    "b = 0\n",
    "name = []\n",
    "for num in a:\n",
    "    b = b + 1\n",
    "    if num not in name:\n",
    "        for num_check in a[b:]: \n",
    "            if num == num_check and num not in name:\n",
    "                result = num\n",
    "                result = result.split()\n",
    "                name = name[:n] + result\n",
    "        \n",
    "print(' '.join(name))"
   ]
  }
 ],
 "metadata": {
  "kernelspec": {
   "display_name": "Python 3",
   "language": "python",
   "name": "python3"
  },
  "language_info": {
   "codemirror_mode": {
    "name": "ipython",
    "version": 3
   },
   "file_extension": ".py",
   "mimetype": "text/x-python",
   "name": "python",
   "nbconvert_exporter": "python",
   "pygments_lexer": "ipython3",
   "version": "3.8.3"
  }
 },
 "nbformat": 4,
 "nbformat_minor": 4
}
