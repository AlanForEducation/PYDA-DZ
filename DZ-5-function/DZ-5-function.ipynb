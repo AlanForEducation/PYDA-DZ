{
 "cells": [
  {
   "cell_type": "markdown",
   "metadata": {},
   "source": [
    "## Домашнее задание к лекции \"Функции\"\n",
    "Вам нужно помочь секретарю автоматизировать работу. Для этого нужно написать программу, которая будет на основе хранимых данных исполнять пользовательские команды."
   ]
  },
  {
   "cell_type": "markdown",
   "metadata": {},
   "source": [
    "Исходные данные имеют следующую структуру:\n",
    "\n",
    "1. перечень всех документов"
   ]
  },
  {
   "cell_type": "code",
   "execution_count": 136,
   "metadata": {},
   "outputs": [],
   "source": [
    "documents = [\n",
    " {'type': 'passport', 'number': '2207 876234', 'name': 'Василий Гупкин'},\n",
    " {'type': 'invoice', 'number': '11-2', 'name': 'Геннадий Покемонов'},\n",
    " {'type': 'insurance', 'number': '10006', 'name': 'Аристарх Павлов'}\n",
    "]"
   ]
  },
  {
   "cell_type": "markdown",
   "metadata": {},
   "source": [
    "2. перечень полок, на которых хранятся документы (если документ есть в documents, то он обязательно должен быть и в directories)"
   ]
  },
  {
   "cell_type": "code",
   "execution_count": 137,
   "metadata": {},
   "outputs": [],
   "source": [
    "directories = {\n",
    " '1': ['2207 876234', '11-2'],\n",
    " '2': ['10006'],\n",
    " '3': []\n",
    "}"
   ]
  },
  {
   "cell_type": "markdown",
   "metadata": {},
   "source": [
    "## Задание 1"
   ]
  },
  {
   "cell_type": "markdown",
   "metadata": {},
   "source": [
    "### Пункт 1. Пользователь по команде \"p\" может узнать владельца документа по его номеру"
   ]
  },
  {
   "cell_type": "code",
   "execution_count": 18,
   "metadata": {},
   "outputs": [],
   "source": [
    "def owner():\n",
    "    doc_num = input('Введите номер документа:')\n",
    "    i = 0\n",
    "    for doc in documents:\n",
    "        if doc['number'] == doc_num:\n",
    "            print(doc['name'])\n",
    "            i = 1\n",
    "    if i == 0:\n",
    "        print('Документ не найден в базе')"
   ]
  },
  {
   "cell_type": "code",
   "execution_count": 19,
   "metadata": {},
   "outputs": [
    {
     "name": "stdout",
     "output_type": "stream",
     "text": [
      "Введите номер документа:2207 876234\n",
      "Василий Гупкин\n"
     ]
    }
   ],
   "source": [
    "owner()"
   ]
  },
  {
   "cell_type": "markdown",
   "metadata": {},
   "source": [
    "### Пункт 2. Пользователь по команде \"s\" может по номеру документа узнать на какой полке он хранится"
   ]
  },
  {
   "cell_type": "code",
   "execution_count": 20,
   "metadata": {},
   "outputs": [],
   "source": [
    "def shelf():\n",
    "    \n",
    "    doc_num = input('Введите номер документа:')\n",
    "    \n",
    "    i = 0\n",
    "    for sh, value in directories.items():\n",
    "        if doc_num in value:\n",
    "            print(sh)\n",
    "            i = 1\n",
    "            \n",
    "    if i == 0:\n",
    "        print('Документ не найден в базе')"
   ]
  },
  {
   "cell_type": "code",
   "execution_count": 21,
   "metadata": {},
   "outputs": [
    {
     "name": "stdout",
     "output_type": "stream",
     "text": [
      "Введите номер документа:11-2\n",
      "1\n"
     ]
    }
   ],
   "source": [
    "shelf()"
   ]
  },
  {
   "cell_type": "markdown",
   "metadata": {},
   "source": [
    "### Пункт 3. Пользователь по команде \"l\" может увидеть полную информацию по всем документам"
   ]
  },
  {
   "cell_type": "code",
   "execution_count": 56,
   "metadata": {},
   "outputs": [],
   "source": [
    "def info():\n",
    "    for doc in documents:\n",
    "        for sh, value in directories.items():\n",
    "            if doc['number'] in value:\n",
    "                num = doc['number']\n",
    "                doc_type = doc['type']\n",
    "                name = doc['name']\n",
    "                print(f'№: {num}, тип: {doc_type}, владелец: {name}, полка: {sh}')"
   ]
  },
  {
   "cell_type": "code",
   "execution_count": 23,
   "metadata": {},
   "outputs": [
    {
     "name": "stdout",
     "output_type": "stream",
     "text": [
      "№: 2207 876234, тип: passport, владелец: Василий Гупкин, полка: 1\n",
      "№: 11-2, тип: invoice, владелец: Геннадий Покемонов, полка: 1\n",
      "№: 10006, тип: insurance, владелец: Аристарх Павлов, полка: 2\n"
     ]
    }
   ],
   "source": [
    "info()"
   ]
  },
  {
   "cell_type": "markdown",
   "metadata": {},
   "source": [
    "### Пункт 4. Пользователь по команде \"ads\" может добавить новую полку"
   ]
  },
  {
   "cell_type": "code",
   "execution_count": 24,
   "metadata": {},
   "outputs": [],
   "source": [
    "def add_shelf():\n",
    "    sh_num = input('Введите номер полки:')\n",
    "    res_sh = []\n",
    "    i = 0  #когда становится единицей показывает, что полка уже существует\n",
    "    for sh, value in directories.items():\n",
    "        res_sh += [int(sh)]\n",
    "        if sh_num == sh:\n",
    "            i = 1\n",
    "        \n",
    "            \n",
    "\n",
    "    if i == 1:\n",
    "        print(f'Такая полка уже существует. Текущий перечень полок: {res_sh}')\n",
    "    else:\n",
    "        print(f'Полка добавлена. Текущий перечень полок: {res_sh + list([int(sh_num)])}')\n",
    "        directories[sh_num] = []\n",
    "        \n",
    "    print(directories.keys())"
   ]
  },
  {
   "cell_type": "code",
   "execution_count": 27,
   "metadata": {
    "scrolled": true
   },
   "outputs": [
    {
     "name": "stdout",
     "output_type": "stream",
     "text": [
      "Введите номер полки:3\n",
      "Полка добавлена. Текущий перечень полок: [1, 2, 6, 10, 9, 3]\n",
      "dict_keys(['1', '2', '6', '10', '9', '3'])\n"
     ]
    }
   ],
   "source": [
    "add_shelf()"
   ]
  },
  {
   "cell_type": "markdown",
   "metadata": {},
   "source": [
    "### Пункт 5. Пользователь по команде \"ds\" может удалить существующую полку из данных (только если она пустая)"
   ]
  },
  {
   "cell_type": "code",
   "execution_count": 29,
   "metadata": {},
   "outputs": [],
   "source": [
    "def del_shelf():\n",
    "    sh_num = input('Введите номер полки:')\n",
    "    res_sh = []\n",
    "    i = 0  #когда становится единицей показывает, что на полке есть документы\n",
    "    n = 0  #когда становится единицей показывает, что полку можно удалить\n",
    "    for sh, value in directories.items():\n",
    "        \n",
    "        if sh_num == sh and len(value) > 0:\n",
    "            i = 1            \n",
    "        elif sh_num == sh:\n",
    "            n = 1\n",
    "        else:\n",
    "            res_sh += [int(sh)]\n",
    "    \n",
    "    if i == 1:\n",
    "        print(f'На полке есть документы, удалите их перед удалением полки. Текущий перечень полок: {res_sh}')\n",
    "    elif n == 1:\n",
    "        print(f'Полка удалена. Текущий перечень полок: {res_sh}')    \n",
    "        del(directories[sh_num])\n",
    "    else:\n",
    "        print(f'Такой полки не существует. Текущий перечень полок: {res_sh}')\n",
    "        \n",
    "    print(directories.keys())\n"
   ]
  },
  {
   "cell_type": "code",
   "execution_count": 30,
   "metadata": {
    "scrolled": true
   },
   "outputs": [
    {
     "name": "stdout",
     "output_type": "stream",
     "text": [
      "Введите номер полки:10\n",
      "Полка удалена. Текущий перечень полок: [1, 2, 9, 3]\n",
      "dict_keys(['1', '2', '9', '3'])\n"
     ]
    }
   ],
   "source": [
    "del_shelf()"
   ]
  },
  {
   "cell_type": "markdown",
   "metadata": {},
   "source": [
    "### Результирующий код для задания 1"
   ]
  },
  {
   "cell_type": "code",
   "execution_count": 146,
   "metadata": {},
   "outputs": [],
   "source": [
    "def result():\n",
    "    while True:\n",
    "        command = input('Введите команду:')\n",
    "        if command == 'p':\n",
    "            owner()\n",
    "        elif command == 's':\n",
    "            shelf()\n",
    "        elif command == 'l':\n",
    "            info()\n",
    "        elif command == 'ads':\n",
    "            add_shelf()\n",
    "        elif command == 'ds':\n",
    "            del_shelf()\n",
    "        elif command == 'q':\n",
    "            break\n",
    "        else:\n",
    "            print('Команда не найдена')\n",
    "            \n",
    "\n",
    "    "
   ]
  },
  {
   "cell_type": "code",
   "execution_count": 147,
   "metadata": {},
   "outputs": [
    {
     "name": "stdout",
     "output_type": "stream",
     "text": [
      "Введите команду:p\n",
      "Введите номер документа:11-2\n",
      "Геннадий Покемонов\n",
      "Введите команду:s\n",
      "Введите номер документа:11-2\n",
      "3\n",
      "Введите команду:l\n",
      "№: 2207 876234, тип: passport, владелец: Василий Гупкин, полка: 1\n",
      "№: 11-2, тип: invoice, владелец: Геннадий Покемонов, полка: 3\n",
      "№: 10006, тип: insurance, владелец: Аристарх Павлов, полка: 2\n",
      "№: 159-159, тип: pass, владелец: OOO, полка: 3\n",
      "Введите команду:ads\n",
      "Введите номер полки:4\n",
      "Полка добавлена. Текущий перечень полок: [1, 2, 3, 4]\n",
      "dict_keys(['1', '2', '3', '4'])\n",
      "Введите команду:ds\n",
      "Введите номер полки:4\n",
      "Полка удалена. Текущий перечень полок: [1, 2, 3]\n",
      "dict_keys(['1', '2', '3'])\n",
      "Введите команду:q\n"
     ]
    }
   ],
   "source": [
    "result()"
   ]
  },
  {
   "cell_type": "markdown",
   "metadata": {},
   "source": [
    "## Задание 2"
   ]
  },
  {
   "cell_type": "markdown",
   "metadata": {},
   "source": [
    "### Пункт 1. Пользователь по команде \"ad\" может добавить новый документ в данные"
   ]
  },
  {
   "cell_type": "code",
   "execution_count": 134,
   "metadata": {},
   "outputs": [],
   "source": [
    "def add_doc():\n",
    "    doc_num = input('Введите номер документа:')\n",
    "    doc_type = input('Введите тип документа:')\n",
    "    doc_owner = input('Введите владельца документа:')\n",
    "    doc_shelf = input('Введите полку для хранения:')\n",
    "\n",
    "    i = 0\n",
    "    for sh, value in directories.items():\n",
    "        if doc_shelf == sh:\n",
    "            i = 1\n",
    "        \n",
    "        global documents #без этого выдавало ошибку\n",
    "    if i == 1: \n",
    "        documents += [{'type': doc_type, 'number': doc_num, 'name': doc_owner}]\n",
    "        directories[doc_shelf] += [doc_num]        \n",
    "    else:\n",
    "        print('Такой полки не существует. Добавьте полку командой ads. ')\n",
    "\n",
    "    print('Текущий список документов:')\n",
    "    info()"
   ]
  },
  {
   "cell_type": "code",
   "execution_count": 138,
   "metadata": {},
   "outputs": [
    {
     "name": "stdout",
     "output_type": "stream",
     "text": [
      "Введите номер документа:1212-12-12\n",
      "Введите тип документа:pas\n",
      "Введите владельца документа:RTX\n",
      "Введите полку для хранения:1\n",
      "Текущий список документов:\n",
      "№: 2207 876234, тип: passport, владелец: Василий Гупкин, полка: 1\n",
      "№: 11-2, тип: invoice, владелец: Геннадий Покемонов, полка: 1\n",
      "№: 10006, тип: insurance, владелец: Аристарх Павлов, полка: 2\n",
      "№: 1212-12-12, тип: pas, владелец: RTX, полка: 1\n"
     ]
    }
   ],
   "source": [
    "add_doc()"
   ]
  },
  {
   "cell_type": "markdown",
   "metadata": {},
   "source": [
    "### Пункт 2. Пользователь по команде \"d\" может удалить документ из данных"
   ]
  },
  {
   "cell_type": "code",
   "execution_count": 90,
   "metadata": {},
   "outputs": [],
   "source": [
    "def del_doc():\n",
    "    doc_num = input('Введите номер документа:')\n",
    "    delete = False\n",
    "    \n",
    "    i = -1\n",
    "    \n",
    "    for doc in documents:\n",
    "        i += 1\n",
    "        if doc_num == doc['number']:\n",
    "            delete = True\n",
    "            index_doc = i\n",
    "            \n",
    "    for sh, value in directories.items(): \n",
    "        if doc_num in value:\n",
    "            v = value.index(doc_num)\n",
    "            del(directories[sh][v])\n",
    "           \n",
    "            \n",
    "    if delete == True:\n",
    "        del(documents[index_doc])\n",
    "        print('Документ удален. ')\n",
    "    else:\n",
    "        print('Документ не найден в базе. ')\n",
    "    \n",
    "    print('Текущий список документов:')    \n",
    "    info()"
   ]
  },
  {
   "cell_type": "code",
   "execution_count": 139,
   "metadata": {},
   "outputs": [
    {
     "name": "stdout",
     "output_type": "stream",
     "text": [
      "Введите номер документа:1212-12-12\n",
      "Документ удален. \n",
      "Текущий список документов:\n",
      "№: 2207 876234, тип: passport, владелец: Василий Гупкин, полка: 1\n",
      "№: 11-2, тип: invoice, владелец: Геннадий Покемонов, полка: 1\n",
      "№: 10006, тип: insurance, владелец: Аристарх Павлов, полка: 2\n"
     ]
    }
   ],
   "source": [
    "del_doc()"
   ]
  },
  {
   "cell_type": "markdown",
   "metadata": {},
   "source": [
    "### Пункт 3. Пользователь по команде \"m\" может переместить документ с полки на полку"
   ]
  },
  {
   "cell_type": "code",
   "execution_count": 140,
   "metadata": {},
   "outputs": [],
   "source": [
    "def replace_doc():\n",
    "    doc_num = input('Введите номер документа:')\n",
    "    doc_shelf = input('Введите полку для хранения:')\n",
    "    replace = False\n",
    "    res_sh = []\n",
    "    i = 0\n",
    "    shelf = 0\n",
    "    for sh, value in directories.items(): \n",
    "        res_sh += [sh]\n",
    "        if doc_num in value:\n",
    "            v = value.index(doc_num)\n",
    "            shelf = sh\n",
    "            replace = True\n",
    "        else:\n",
    "            i = 1\n",
    "            \n",
    "            \n",
    "            \n",
    "    if replace == True and doc_shelf in res_sh:\n",
    "        print('Документ перемещен.')\n",
    "        del(directories[shelf][v])\n",
    "        directories[doc_shelf] += [doc_num]\n",
    "    elif i == 1 and doc_shelf in res_sh:\n",
    "        print('Документ не найден в базе. ')\n",
    "    else:        \n",
    "        print(f'Такой полки не существует. Текущий перечень полок: {res_sh}')\n",
    "        \n",
    "    print('Текущий список документов:')\n",
    "    info()"
   ]
  },
  {
   "cell_type": "code",
   "execution_count": 141,
   "metadata": {},
   "outputs": [
    {
     "name": "stdout",
     "output_type": "stream",
     "text": [
      "Введите номер документа:11-2\n",
      "Введите полку для хранения:3\n",
      "Документ перемещен.\n",
      "Текущий список документов:\n",
      "№: 2207 876234, тип: passport, владелец: Василий Гупкин, полка: 1\n",
      "№: 11-2, тип: invoice, владелец: Геннадий Покемонов, полка: 3\n",
      "№: 10006, тип: insurance, владелец: Аристарх Павлов, полка: 2\n"
     ]
    }
   ],
   "source": [
    "replace_doc()"
   ]
  },
  {
   "cell_type": "markdown",
   "metadata": {},
   "source": [
    "## Результирующий код для задания 2"
   ]
  },
  {
   "cell_type": "code",
   "execution_count": 151,
   "metadata": {},
   "outputs": [],
   "source": [
    "def result_2():\n",
    "    \n",
    "    while True:\n",
    "        command = input('Введите команду:')\n",
    "        \n",
    "        if command == 'add':\n",
    "            add_doc()\n",
    "        elif command == 'd':\n",
    "            del_doc()\n",
    "        elif command == 'm':\n",
    "            replace_doc()\n",
    "        elif command == 'q':\n",
    "            break\n",
    "        else:\n",
    "            print('Команда не найдена')"
   ]
  },
  {
   "cell_type": "code",
   "execution_count": 152,
   "metadata": {},
   "outputs": [
    {
     "name": "stdout",
     "output_type": "stream",
     "text": [
      "Введите команду:add\n",
      "Введите номер документа:856-633\n",
      "Введите тип документа:pass\n",
      "Введите владельца документа:Test\n",
      "Введите полку для хранения:3\n",
      "Текущий список документов:\n",
      "№: 2207 876234, тип: passport, владелец: Василий Гупкин, полка: 1\n",
      "№: 11-2, тип: invoice, владелец: Геннадий Покемонов, полка: 3\n",
      "№: 10006, тип: insurance, владелец: Аристарх Павлов, полка: 2\n",
      "№: 159-159, тип: pass, владелец: OOO, полка: 3\n",
      "№: 852-653, тип: pass, владелец: TEST, полка: 3\n",
      "№: 856-633, тип: pass, владелец: Test, полка: 3\n",
      "Введите команду:d\n",
      "Введите номер документа:159-159\n",
      "Документ удален. \n",
      "Текущий список документов:\n",
      "№: 2207 876234, тип: passport, владелец: Василий Гупкин, полка: 1\n",
      "№: 11-2, тип: invoice, владелец: Геннадий Покемонов, полка: 3\n",
      "№: 10006, тип: insurance, владелец: Аристарх Павлов, полка: 2\n",
      "№: 852-653, тип: pass, владелец: TEST, полка: 3\n",
      "№: 856-633, тип: pass, владелец: Test, полка: 3\n",
      "Введите команду:m\n",
      "Введите номер документа:852-653\n",
      "Введите полку для хранения:1\n",
      "Документ перемещен.\n",
      "Текущий список документов:\n",
      "№: 2207 876234, тип: passport, владелец: Василий Гупкин, полка: 1\n",
      "№: 11-2, тип: invoice, владелец: Геннадий Покемонов, полка: 3\n",
      "№: 10006, тип: insurance, владелец: Аристарх Павлов, полка: 2\n",
      "№: 852-653, тип: pass, владелец: TEST, полка: 1\n",
      "№: 856-633, тип: pass, владелец: Test, полка: 3\n",
      "Введите команду:q\n"
     ]
    }
   ],
   "source": [
    "result_2()"
   ]
  }
 ],
 "metadata": {
  "kernelspec": {
   "display_name": "Python 3",
   "language": "python",
   "name": "python3"
  },
  "language_info": {
   "codemirror_mode": {
    "name": "ipython",
    "version": 3
   },
   "file_extension": ".py",
   "mimetype": "text/x-python",
   "name": "python",
   "nbconvert_exporter": "python",
   "pygments_lexer": "ipython3",
   "version": "3.8.3"
  }
 },
 "nbformat": 4,
 "nbformat_minor": 4
}
