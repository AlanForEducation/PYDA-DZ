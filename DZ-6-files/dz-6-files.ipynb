{
 "cells": [
  {
   "cell_type": "code",
   "execution_count": 3,
   "metadata": {},
   "outputs": [],
   "source": [
    "import json"
   ]
  },
  {
   "cell_type": "markdown",
   "metadata": {},
   "source": [
    "### Задание 1\n",
    "Переведите содержимое файла purchase_log.txt в словарь purchases вида:\n",
    "{‘1840e0b9d4’: ‘Продукты’, …}"
   ]
  },
  {
   "cell_type": "code",
   "execution_count": 11,
   "metadata": {},
   "outputs": [],
   "source": [
    "f = open('purchase_log.txt', encoding='utf-8')"
   ]
  },
  {
   "cell_type": "code",
   "execution_count": 123,
   "metadata": {},
   "outputs": [
    {
     "name": "stdout",
     "output_type": "stream",
     "text": [
      "{'user_id': 'category', '1840e0b9d4': 'Продукты', '4e4f90fcfb': 'Электроника', 'afea8d72fc': 'Электроника', '373a6055fe': 'Бытовая техника', '9b2ab046f3': 'Электроника', '9f39d307c3': 'Электроника', '44edeffc91': 'Продукты', '704474fa2d': 'Продукты', '1de31be403': 'Бытовая техника', 'b71f36a5e4': 'Продукты', '79843a685a': 'Продукты', 'ff68cee0d6': 'Бытовая техника', 'e8447c40e2': 'Досуг', '98d290be27': 'Электроника', 'fa0079a5a8': 'Досуг', '22d2f03a17': 'Досуг', '3f8e1ccd3f': 'Электроника', '81a9988b83': 'Электроника', '65f44a2eb7': 'Досуг', '5f8fbb0149': 'Бытовая техника', '3ecff691fd': 'Электроника'}\n"
     ]
    }
   ],
   "source": [
    "purchase = {}\n",
    "for i, value in enumerate(f):\n",
    "    value = value.strip()\n",
    "    dict_ = json.loads(value)\n",
    "    id_ = dict_[\"user_id\"]\n",
    "    category = dict_[\"category\"]\n",
    "    purchase[id_] = category\n",
    "    \n",
    "    if i > 20:\n",
    "        break\n",
    "print(purchase)"
   ]
  },
  {
   "cell_type": "markdown",
   "metadata": {},
   "source": [
    "### Задание 2\n",
    "Для каждого user_id в файле visit_log.csv определите третий столбец с категорией покупки (если покупка была, сам файл visit_log.csv изменять не надо). Запишите в файл funnel.csv визиты из файла visit_log.csv, в которых были покупки с указанием категории.\n",
    "\n",
    "Учтите условия на данные:  \n",
    "содержимое purchase_log.txt помещается в оперативную память компьютера  \n",
    "содержимое visit_log.csv - нет; используйте только построчную обработку этого файла"
   ]
  },
  {
   "cell_type": "code",
   "execution_count": 12,
   "metadata": {},
   "outputs": [],
   "source": [
    "purchase = {}\n",
    "for i, value in enumerate(f):\n",
    "    value = value.strip()\n",
    "    dict_ = json.loads(value)\n",
    "    purchase[dict_[\"user_id\"]] = dict_[\"category\"]"
   ]
  },
  {
   "cell_type": "code",
   "execution_count": 13,
   "metadata": {},
   "outputs": [],
   "source": [
    "f2 = open('visit_log.csv')"
   ]
  },
  {
   "cell_type": "code",
   "execution_count": 14,
   "metadata": {},
   "outputs": [],
   "source": [
    "new = open('funnel.csv', 'w')\n",
    "for i, line in enumerate(f2):\n",
    "    line = line.strip().split(',')\n",
    "    id_ = line[0]\n",
    "    value = line[1]\n",
    "    if id_ in purchase:\n",
    "        v = purchase[id_]\n",
    "        w = f'{id_},{value},{v}\\n'\n",
    "        #print(w)\n",
    "        new.write(w)\n",
    "   "
   ]
  },
  {
   "cell_type": "code",
   "execution_count": 15,
   "metadata": {},
   "outputs": [],
   "source": [
    "new.close()"
   ]
  },
  {
   "cell_type": "code",
   "execution_count": 16,
   "metadata": {},
   "outputs": [],
   "source": [
    "f3 = open('funnel.csv')"
   ]
  },
  {
   "cell_type": "code",
   "execution_count": 17,
   "metadata": {
    "scrolled": true
   },
   "outputs": [
    {
     "data": {
      "text/plain": [
       "['user_id,source,category\\n',\n",
       " '1840e0b9d4,other,Продукты\\n',\n",
       " '4e4f90fcfb,context,Электроника\\n',\n",
       " 'afea8d72fc,other,Электроника\\n',\n",
       " '2824221f38,email,Продукты\\n',\n",
       " '373a6055fe,other,Бытовая техника\\n',\n",
       " '9b2ab046f3,other,Электроника\\n',\n",
       " '9f39d307c3,context,Электроника\\n',\n",
       " '44edeffc91,context,Продукты\\n',\n",
       " '704474fa2d,other,Продукты\\n']"
      ]
     },
     "execution_count": 17,
     "metadata": {},
     "output_type": "execute_result"
    }
   ],
   "source": [
    "content = f3.readlines()\n",
    "content[:10]"
   ]
  }
 ],
 "metadata": {
  "kernelspec": {
   "display_name": "Python 3",
   "language": "python",
   "name": "python3"
  },
  "language_info": {
   "codemirror_mode": {
    "name": "ipython",
    "version": 3
   },
   "file_extension": ".py",
   "mimetype": "text/x-python",
   "name": "python",
   "nbconvert_exporter": "python",
   "pygments_lexer": "ipython3",
   "version": "3.8.3"
  }
 },
 "nbformat": 4,
 "nbformat_minor": 4
}
