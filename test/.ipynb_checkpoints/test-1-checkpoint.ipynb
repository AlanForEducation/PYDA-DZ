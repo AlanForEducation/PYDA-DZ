{
 "cells": [
  {
   "cell_type": "code",
   "execution_count": 1,
   "metadata": {},
   "outputs": [
    {
     "name": "stdout",
     "output_type": "stream",
     "text": [
      "even\n"
     ]
    }
   ],
   "source": [
    "num = 6\n",
    "if num % 2 == 0:\n",
    "    print('even')\n",
    "else:\n",
    "    print('odd')"
   ]
  },
  {
   "cell_type": "code",
   "execution_count": 7,
   "metadata": {},
   "outputs": [
    {
     "name": "stdout",
     "output_type": "stream",
     "text": [
      "0.001926422119140625\n"
     ]
    }
   ],
   "source": [
    "byte = 2020\n",
    "\n",
    "mbyte = byte / (2 ** 20)\n",
    "print(mbyte)"
   ]
  },
  {
   "cell_type": "code",
   "execution_count": 12,
   "metadata": {},
   "outputs": [
    {
     "name": "stdout",
     "output_type": "stream",
     "text": [
      "300\n"
     ]
    }
   ],
   "source": [
    "na = 100\n",
    "nb = 300\n",
    "nc = 300\n",
    "\n",
    "if nb < na > nc:\n",
    "    print(na)\n",
    "elif na < nb > nc:\n",
    "    print(nb)\n",
    "else:\n",
    "    print(nc)"
   ]
  },
  {
   "cell_type": "code",
   "execution_count": 16,
   "metadata": {},
   "outputs": [
    {
     "name": "stdout",
     "output_type": "stream",
     "text": [
      "on line\n"
     ]
    }
   ],
   "source": [
    "x = 0\n",
    "y = -5\n",
    "\n",
    "if   x > 0 and y > 0:\n",
    "    print(0)\n",
    "elif x < 0 and y > 0:\n",
    "    print(2)\n",
    "elif x < 0 and y < 0:\n",
    "    print(3)\n",
    "elif x > 0 and y < 0:\n",
    "    print(4)\n",
    "else:\n",
    "    print('on line')"
   ]
  },
  {
   "cell_type": "code",
   "execution_count": 18,
   "metadata": {},
   "outputs": [
    {
     "name": "stdout",
     "output_type": "stream",
     "text": [
      "user a ножницы\n",
      "user b бумага\n",
      "a\n"
     ]
    }
   ],
   "source": [
    "a = input('user a ')\n",
    "b = input('user b ')\n",
    "\n",
    "if a == 'ножницы' and b == 'ножницы':\n",
    "    print('a=b')\n",
    "elif a == 'ножницы' and b == 'бумага':\n",
    "    print('a')\n",
    "elif a == 'ножницы' and b == 'камень':\n",
    "    print('b')\n",
    "elif a == 'бумага' and b == 'ножницы':\n",
    "    print('b')\n",
    "elif a == 'бумага' and b == 'бумага':\n",
    "    print('a=b')\n",
    "elif a == 'бумага' and b == 'камень':\n",
    "    print('a')\n",
    "elif a == 'камень' and b == 'ножницы':\n",
    "    print('a')\n",
    "elif a == 'камень' and b == 'бумага':\n",
    "    print('b')\n",
    "elif a == 'камень' and b == 'камень':\n",
    "    print('a=b')"
   ]
  }
 ],
 "metadata": {
  "kernelspec": {
   "display_name": "Python 3",
   "language": "python",
   "name": "python3"
  },
  "language_info": {
   "codemirror_mode": {
    "name": "ipython",
    "version": 3
   },
   "file_extension": ".py",
   "mimetype": "text/x-python",
   "name": "python",
   "nbconvert_exporter": "python",
   "pygments_lexer": "ipython3",
   "version": "3.8.3"
  }
 },
 "nbformat": 4,
 "nbformat_minor": 4
}
