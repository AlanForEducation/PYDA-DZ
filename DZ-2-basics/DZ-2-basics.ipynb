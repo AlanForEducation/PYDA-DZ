{
 "cells": [
  {
   "cell_type": "markdown",
   "metadata": {},
   "source": [
    "### Задание 1\n",
    "Даны 2 переменных, в которых хранятся строки произвольной длины: phrase_1 и phrase_2.\n",
    "Напишите код, который проверяет какая из этих строк длиннее."
   ]
  },
  {
   "cell_type": "code",
   "execution_count": 60,
   "metadata": {},
   "outputs": [
    {
     "name": "stdout",
     "output_type": "stream",
     "text": [
      "Вторая цитата длиннее\n"
     ]
    }
   ],
   "source": [
    "phrase_1 = 'Бой должен длиться 13 секунд: 2 секунды на сближение, 1 секунда на удар, 10 секунд на отсчет рефери.'\n",
    "phrase_2 = 'Жизнь – это череда маленьких шагов'\n",
    "\n",
    "if len(phrase_1) > len(phrase_2):\n",
    "    print('Вторая цитата длиннее')\n",
    "elif len(phrase_1) < len(phrase_2):\n",
    "    print('Первая цитата длиннее')\n",
    "else:\n",
    "    print('Цитаты одинаковые по длинне')"
   ]
  },
  {
   "cell_type": "markdown",
   "metadata": {},
   "source": [
    "### Задание 2\n",
    "Дана переменная, в которой хранится четырехзначное число (год). Необходимо написать программу, которая выведет, является ли данный год високосным или обычным."
   ]
  },
  {
   "cell_type": "code",
   "execution_count": 62,
   "metadata": {},
   "outputs": [
    {
     "name": "stdout",
     "output_type": "stream",
     "text": [
      "Год обычный\n"
     ]
    }
   ],
   "source": [
    "year = 1700\n",
    "\n",
    "if year % 4 == 0:\n",
    "    if year % 100 == 0 and year % 400 == 0:\n",
    "        print('Год високосный')\n",
    "    elif year % 4 == 0 and year % 100 != 0:\n",
    "        print('Год високосный')\n",
    "    else:\n",
    "        print('Год обычный')        \n",
    "else:\n",
    "    print('Год обычный')"
   ]
  },
  {
   "cell_type": "markdown",
   "metadata": {},
   "source": [
    "### Задание 3\n",
    "\n",
    "Необходимо написать программу, которая будет запрашивать у пользователя месяц и дату рождения и выводить соответствующий знак зодиака."
   ]
  },
  {
   "cell_type": "code",
   "execution_count": 70,
   "metadata": {},
   "outputs": [
    {
     "name": "stdout",
     "output_type": "stream",
     "text": [
      "Введите день 25\n",
      "Введите месяц Июль\n",
      "Лев\n"
     ]
    }
   ],
   "source": [
    "day = int(input('Введите день '))\n",
    "month = input('Введите месяц ')\n",
    "\n",
    "if (month == 'Март' and day >= 21) or (month == 'Апрель' and day <= 20):\n",
    "    print('Овен')\n",
    "elif (month == 'Апрель' and day >= 21) or (month == 'Май' and day <= 21):\n",
    "    print('Телец')\n",
    "elif (month == 'Май' and day >= 22) or (month == 'Июнь' and day <= 21):\n",
    "    print('Близнецы')\n",
    "elif (month == 'Июнь' and day >= 22) or (month == 'Июль' and day <= 22):\n",
    "    print('Рак')\n",
    "elif (month == 'Июль' and day >= 23) or (month == 'Август' and day <= 23):\n",
    "    print('Лев')\n",
    "elif (month == 'Август' and day >= 24) or (month == 'Сентябрь' and day <= 23):\n",
    "    print('Дева')\n",
    "elif (month == 'Сентябрь' and day >= 24) or (month == 'Октябрь' and day <= 23):\n",
    "    print('Весы')\n",
    "elif (month == 'Октябрь' and day >= 24) or (month == 'Ноябрь' and day <= 22):\n",
    "    print('Скорпион')\n",
    "elif (month == 'Ноябрь' and day >= 23) or (month == 'Декабрь' and day <= 21):\n",
    "    print('Стрелец')\n",
    "elif (month == 'Декабрь' and day >= 22) or (month == 'Январь' and day <= 20):\n",
    "    print('Козерог')\n",
    "elif (month == 'Январь' and day >= 21) or (month == 'Февраль' and day <= 18):\n",
    "    print('Водолей')\n",
    "elif (month == 'Февраль' and day >= 19) or (month == 'Март' and day <= 20):\n",
    "    print('Рыбы')\n"
   ]
  },
  {
   "cell_type": "markdown",
   "metadata": {},
   "source": [
    "### Задание 4\n",
    "Вам нужно написать программу для подбора упаковок по размерам товара."
   ]
  },
  {
   "cell_type": "code",
   "execution_count": 74,
   "metadata": {},
   "outputs": [
    {
     "name": "stdout",
     "output_type": "stream",
     "text": [
      "Упаковка для лыж\n"
     ]
    }
   ],
   "source": [
    "width = 10\n",
    "length = 205\n",
    "height = 5\n",
    "\n",
    "if width < 15 and length < 15 and height < 15:\n",
    "    print('Коробка №1')\n",
    "elif (15 < width < 50) or (15 < length < 50) or (15 < height < 50):\n",
    "    print('Коробка №2')\n",
    "elif length > 200:\n",
    "    print('Упаковка для лыж')\n",
    "else:\n",
    "    print('Стандартная коробка №3')"
   ]
  },
  {
   "cell_type": "markdown",
   "metadata": {},
   "source": [
    "### Задание 5\n",
    "Напишите программу, которая будет определять, является ли данный билет \"счастливым\". Билет считается счастливым, если сумма первых трех цифр совпадает с суммой последних трех цифр номера."
   ]
  },
  {
   "cell_type": "code",
   "execution_count": 94,
   "metadata": {},
   "outputs": [
    {
     "name": "stdout",
     "output_type": "stream",
     "text": [
      "Обычный билет\n"
     ]
    }
   ],
   "source": [
    "number = 123125\n",
    "a = number // 100000\n",
    "b = number // 10000 - a * 10\n",
    "c = number // 1000 - a * 100 - b * 10\n",
    "d = number // 100 - a * 1000 - b * 100 - c * 10\n",
    "e = number // 10 - a * 10000 - b * 1000 - c * 100 - d * 10\n",
    "f = number - a * 100000 - b * 10000 - c * 1000 - d * 100 - e * 10\n",
    "\n",
    "if a + b + c == d + e + f:\n",
    "    print('Счастливый билет')\n",
    "else:\n",
    "    print('Обычный билет')"
   ]
  },
  {
   "cell_type": "markdown",
   "metadata": {},
   "source": [
    "### Задание 6\n",
    "Напишите программу, которая сможет вычислять площади трех фигур (круг, треугольник и прямоугольник)."
   ]
  },
  {
   "cell_type": "code",
   "execution_count": 100,
   "metadata": {},
   "outputs": [
    {
     "name": "stdout",
     "output_type": "stream",
     "text": [
      "Введите тип фигуры: Треугольник\n",
      "Введите сторону А: 10\n",
      "Введите сторону В: 8\n",
      "Введите сторону С: 7\n",
      "Площадь треугольника =  27.810744326608734\n"
     ]
    }
   ],
   "source": [
    "shape = input('Введите тип фигуры: ')\n",
    "\n",
    "if shape == 'Круг':\n",
    "    r = int(input('Введите радиус: '))\n",
    "    s = 3.14 * (r **2)\n",
    "    print('Площадь круга = ', s)\n",
    "    \n",
    "elif shape == 'Треугольник':\n",
    "    a = int(input('Введите сторону А: '))\n",
    "    b = int(input('Введите сторону В: '))\n",
    "    c = int(input('Введите сторону С: '))\n",
    "    p = (a + b + c) / 2\n",
    "    s = (p * (p-a)*(p-b)*(p-c)) ** 0.5\n",
    "    print('Площадь треугольника = ', s)\n",
    "    \n",
    "elif shape == 'Прямоугольник':\n",
    "    a = int(input('Введите сторону А: '))\n",
    "    b = int(input('Введите сторону В: '))\n",
    "    s = a * b\n",
    "    print('Площадь прямоугольника = ', s)"
   ]
  }
 ],
 "metadata": {
  "kernelspec": {
   "display_name": "Python 3",
   "language": "python",
   "name": "python3"
  },
  "language_info": {
   "codemirror_mode": {
    "name": "ipython",
    "version": 3
   },
   "file_extension": ".py",
   "mimetype": "text/x-python",
   "name": "python",
   "nbconvert_exporter": "python",
   "pygments_lexer": "ipython3",
   "version": "3.8.3"
  }
 },
 "nbformat": 4,
 "nbformat_minor": 4
}
